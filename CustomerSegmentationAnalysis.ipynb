{
 "cells": [
  {
   "cell_type": "markdown",
   "id": "adapted-edition",
   "metadata": {},
   "source": [
    "# Kaggle: Customer Segmentation Analysis\n",
    "-----\n",
    "Based on dataset for Customer Segmentation (Kaggle) -> https://www.kaggle.com/vjchoudhary7/customer-segmentation-tutorial-in-python"
   ]
  },
  {
   "cell_type": "markdown",
   "id": "adult-lincoln",
   "metadata": {},
   "source": [
    "## Set up environment and get basic information of dataset"
   ]
  },
  {
   "cell_type": "code",
   "execution_count": 1,
   "id": "multiple-providence",
   "metadata": {},
   "outputs": [],
   "source": [
    "#Import necessary libraries\n",
    "import seaborn as sns\n",
    "import matplotlib.pyplot as plt\n",
    "import numpy as np\n",
    "import pandas as pd\n",
    "from sklearn.cluster import KMeans"
   ]
  },
  {
   "cell_type": "code",
   "execution_count": 2,
   "id": "lightweight-jewelry",
   "metadata": {},
   "outputs": [],
   "source": [
    "#read data\n",
    "data = pd.read_csv(r\"C:\\Users\\Atrey\\Downloads\\Mall_Customers.csv\")\n",
    "data = pd.DataFrame(data)"
   ]
  },
  {
   "cell_type": "code",
   "execution_count": 3,
   "id": "structured-combine",
   "metadata": {},
   "outputs": [
    {
     "data": {
      "text/html": [
       "<div>\n",
       "<style scoped>\n",
       "    .dataframe tbody tr th:only-of-type {\n",
       "        vertical-align: middle;\n",
       "    }\n",
       "\n",
       "    .dataframe tbody tr th {\n",
       "        vertical-align: top;\n",
       "    }\n",
       "\n",
       "    .dataframe thead th {\n",
       "        text-align: right;\n",
       "    }\n",
       "</style>\n",
       "<table border=\"1\" class=\"dataframe\">\n",
       "  <thead>\n",
       "    <tr style=\"text-align: right;\">\n",
       "      <th></th>\n",
       "      <th>CustomerID</th>\n",
       "      <th>Gender</th>\n",
       "      <th>Age</th>\n",
       "      <th>Annual Income (k$)</th>\n",
       "      <th>Spending Score (1-100)</th>\n",
       "    </tr>\n",
       "  </thead>\n",
       "  <tbody>\n",
       "    <tr>\n",
       "      <th>0</th>\n",
       "      <td>1</td>\n",
       "      <td>Male</td>\n",
       "      <td>19</td>\n",
       "      <td>15</td>\n",
       "      <td>39</td>\n",
       "    </tr>\n",
       "    <tr>\n",
       "      <th>1</th>\n",
       "      <td>2</td>\n",
       "      <td>Male</td>\n",
       "      <td>21</td>\n",
       "      <td>15</td>\n",
       "      <td>81</td>\n",
       "    </tr>\n",
       "    <tr>\n",
       "      <th>2</th>\n",
       "      <td>3</td>\n",
       "      <td>Female</td>\n",
       "      <td>20</td>\n",
       "      <td>16</td>\n",
       "      <td>6</td>\n",
       "    </tr>\n",
       "    <tr>\n",
       "      <th>3</th>\n",
       "      <td>4</td>\n",
       "      <td>Female</td>\n",
       "      <td>23</td>\n",
       "      <td>16</td>\n",
       "      <td>77</td>\n",
       "    </tr>\n",
       "    <tr>\n",
       "      <th>4</th>\n",
       "      <td>5</td>\n",
       "      <td>Female</td>\n",
       "      <td>31</td>\n",
       "      <td>17</td>\n",
       "      <td>40</td>\n",
       "    </tr>\n",
       "  </tbody>\n",
       "</table>\n",
       "</div>"
      ],
      "text/plain": [
       "   CustomerID  Gender  Age  Annual Income (k$)  Spending Score (1-100)\n",
       "0           1    Male   19                  15                      39\n",
       "1           2    Male   21                  15                      81\n",
       "2           3  Female   20                  16                       6\n",
       "3           4  Female   23                  16                      77\n",
       "4           5  Female   31                  17                      40"
      ]
     },
     "execution_count": 3,
     "metadata": {},
     "output_type": "execute_result"
    }
   ],
   "source": [
    "data.head()"
   ]
  },
  {
   "cell_type": "code",
   "execution_count": 4,
   "id": "apart-junction",
   "metadata": {},
   "outputs": [
    {
     "data": {
      "text/plain": [
       "(200, 5)"
      ]
     },
     "execution_count": 4,
     "metadata": {},
     "output_type": "execute_result"
    }
   ],
   "source": [
    "#find dimensionality of data\n",
    "data.shape"
   ]
  },
  {
   "cell_type": "code",
   "execution_count": 5,
   "id": "continuous-donor",
   "metadata": {},
   "outputs": [
    {
     "data": {
      "text/plain": [
       "array([19, 21, 20, 23, 31, 22, 35, 64, 30, 67, 58, 24, 37, 52, 25, 46, 54,\n",
       "       29, 45, 40, 60, 53, 18, 49, 42, 36, 65, 48, 50, 27, 33, 59, 47, 51,\n",
       "       69, 70, 63, 43, 68, 32, 26, 57, 38, 55, 34, 66, 39, 44, 28, 56, 41],\n",
       "      dtype=int64)"
      ]
     },
     "execution_count": 5,
     "metadata": {},
     "output_type": "execute_result"
    }
   ],
   "source": [
    "data.Age.unique()\n",
    "#First look: age ranges between 3 to 70 years old"
   ]
  },
  {
   "cell_type": "code",
   "execution_count": 6,
   "id": "south-picnic",
   "metadata": {},
   "outputs": [
    {
     "data": {
      "text/plain": [
       "CustomerID                0\n",
       "Gender                    0\n",
       "Age                       0\n",
       "Annual Income (k$)        0\n",
       "Spending Score (1-100)    0\n",
       "dtype: int64"
      ]
     },
     "execution_count": 6,
     "metadata": {},
     "output_type": "execute_result"
    }
   ],
   "source": [
    "data.isna().sum()\n",
    "#no null values, complete data entry"
   ]
  },
  {
   "cell_type": "code",
   "execution_count": 7,
   "id": "alpine-subscriber",
   "metadata": {},
   "outputs": [
    {
     "name": "stdout",
     "output_type": "stream",
     "text": [
      "<class 'pandas.core.frame.DataFrame'>\n",
      "RangeIndex: 200 entries, 0 to 199\n",
      "Data columns (total 5 columns):\n",
      " #   Column                  Non-Null Count  Dtype \n",
      "---  ------                  --------------  ----- \n",
      " 0   CustomerID              200 non-null    int64 \n",
      " 1   Gender                  200 non-null    object\n",
      " 2   Age                     200 non-null    int64 \n",
      " 3   Annual Income (k$)      200 non-null    int64 \n",
      " 4   Spending Score (1-100)  200 non-null    int64 \n",
      "dtypes: int64(4), object(1)\n",
      "memory usage: 7.9+ KB\n"
     ]
    }
   ],
   "source": [
    "data.info()"
   ]
  },
  {
   "cell_type": "markdown",
   "id": "least-tumor",
   "metadata": {},
   "source": [
    "# Gender and Salary Study\n",
    "-------"
   ]
  },
  {
   "cell_type": "markdown",
   "id": "square-mattress",
   "metadata": {},
   "source": [
    "## Gender comparisons"
   ]
  },
  {
   "cell_type": "code",
   "execution_count": 8,
   "id": "tested-yield",
   "metadata": {},
   "outputs": [
    {
     "name": "stdout",
     "output_type": "stream",
     "text": [
      "<class 'pandas.core.frame.DataFrame'>\n",
      "RangeIndex: 200 entries, 0 to 199\n",
      "Data columns (total 4 columns):\n",
      " #   Column         Non-Null Count  Dtype \n",
      "---  ------         --------------  ----- \n",
      " 0   Gender         200 non-null    object\n",
      " 1   Age            200 non-null    int64 \n",
      " 2   Annual Income  200 non-null    int64 \n",
      " 3   Spend Score    200 non-null    int64 \n",
      "dtypes: int64(3), object(1)\n",
      "memory usage: 6.4+ KB\n",
      "None\n"
     ]
    },
    {
     "data": {
      "text/html": [
       "<div>\n",
       "<style scoped>\n",
       "    .dataframe tbody tr th:only-of-type {\n",
       "        vertical-align: middle;\n",
       "    }\n",
       "\n",
       "    .dataframe tbody tr th {\n",
       "        vertical-align: top;\n",
       "    }\n",
       "\n",
       "    .dataframe thead th {\n",
       "        text-align: right;\n",
       "    }\n",
       "</style>\n",
       "<table border=\"1\" class=\"dataframe\">\n",
       "  <thead>\n",
       "    <tr style=\"text-align: right;\">\n",
       "      <th></th>\n",
       "      <th>Gender</th>\n",
       "      <th>Age</th>\n",
       "      <th>Annual Income</th>\n",
       "      <th>Spend Score</th>\n",
       "    </tr>\n",
       "  </thead>\n",
       "  <tbody>\n",
       "    <tr>\n",
       "      <th>0</th>\n",
       "      <td>Male</td>\n",
       "      <td>19</td>\n",
       "      <td>15</td>\n",
       "      <td>39</td>\n",
       "    </tr>\n",
       "    <tr>\n",
       "      <th>1</th>\n",
       "      <td>Male</td>\n",
       "      <td>21</td>\n",
       "      <td>15</td>\n",
       "      <td>81</td>\n",
       "    </tr>\n",
       "    <tr>\n",
       "      <th>2</th>\n",
       "      <td>Female</td>\n",
       "      <td>20</td>\n",
       "      <td>16</td>\n",
       "      <td>6</td>\n",
       "    </tr>\n",
       "    <tr>\n",
       "      <th>3</th>\n",
       "      <td>Female</td>\n",
       "      <td>23</td>\n",
       "      <td>16</td>\n",
       "      <td>77</td>\n",
       "    </tr>\n",
       "    <tr>\n",
       "      <th>4</th>\n",
       "      <td>Female</td>\n",
       "      <td>31</td>\n",
       "      <td>17</td>\n",
       "      <td>40</td>\n",
       "    </tr>\n",
       "    <tr>\n",
       "      <th>...</th>\n",
       "      <td>...</td>\n",
       "      <td>...</td>\n",
       "      <td>...</td>\n",
       "      <td>...</td>\n",
       "    </tr>\n",
       "    <tr>\n",
       "      <th>195</th>\n",
       "      <td>Female</td>\n",
       "      <td>35</td>\n",
       "      <td>120</td>\n",
       "      <td>79</td>\n",
       "    </tr>\n",
       "    <tr>\n",
       "      <th>196</th>\n",
       "      <td>Female</td>\n",
       "      <td>45</td>\n",
       "      <td>126</td>\n",
       "      <td>28</td>\n",
       "    </tr>\n",
       "    <tr>\n",
       "      <th>197</th>\n",
       "      <td>Male</td>\n",
       "      <td>32</td>\n",
       "      <td>126</td>\n",
       "      <td>74</td>\n",
       "    </tr>\n",
       "    <tr>\n",
       "      <th>198</th>\n",
       "      <td>Male</td>\n",
       "      <td>32</td>\n",
       "      <td>137</td>\n",
       "      <td>18</td>\n",
       "    </tr>\n",
       "    <tr>\n",
       "      <th>199</th>\n",
       "      <td>Male</td>\n",
       "      <td>30</td>\n",
       "      <td>137</td>\n",
       "      <td>83</td>\n",
       "    </tr>\n",
       "  </tbody>\n",
       "</table>\n",
       "<p>200 rows × 4 columns</p>\n",
       "</div>"
      ],
      "text/plain": [
       "     Gender  Age  Annual Income  Spend Score\n",
       "0      Male   19             15           39\n",
       "1      Male   21             15           81\n",
       "2    Female   20             16            6\n",
       "3    Female   23             16           77\n",
       "4    Female   31             17           40\n",
       "..      ...  ...            ...          ...\n",
       "195  Female   35            120           79\n",
       "196  Female   45            126           28\n",
       "197    Male   32            126           74\n",
       "198    Male   32            137           18\n",
       "199    Male   30            137           83\n",
       "\n",
       "[200 rows x 4 columns]"
      ]
     },
     "execution_count": 8,
     "metadata": {},
     "output_type": "execute_result"
    }
   ],
   "source": [
    "#Create table for Gender and salaries study\n",
    "dataGender = pd.DataFrame()\n",
    "dataGender['Gender'] = data['Gender']\n",
    "dataGender['Gender'] = dataGender['Gender']\n",
    "dataGender['Age'] = data['Age']\n",
    "dataGender['Annual Income'] = data['Annual Income (k$)']\n",
    "dataGender['Spend Score'] = data['Spending Score (1-100)']\n",
    "\n",
    "print(dataGender.info())\n",
    "dataGender"
   ]
  },
  {
   "cell_type": "code",
   "execution_count": 9,
   "id": "short-tiffany",
   "metadata": {},
   "outputs": [],
   "source": [
    "def findGenderMale(data):\n",
    "    for i in range(len(data)):\n",
    "        if data == 'Male':\n",
    "            return 1\n",
    "        else: \n",
    "            return 0\n",
    "def findGenderFemale(data):\n",
    "    for i in range(len(data)):\n",
    "        if data == 'Female':\n",
    "            return 1\n",
    "        else: \n",
    "            return 0"
   ]
  },
  {
   "cell_type": "code",
   "execution_count": 10,
   "id": "subjective-margin",
   "metadata": {},
   "outputs": [
    {
     "data": {
      "text/plain": [
       "88"
      ]
     },
     "execution_count": 10,
     "metadata": {},
     "output_type": "execute_result"
    }
   ],
   "source": [
    "#Find specific counts of male and females in the data\n",
    "countsMale = dataGender['Gender'].apply(findGenderMale)\n",
    "\n",
    "countsMale.sum()\n"
   ]
  },
  {
   "cell_type": "code",
   "execution_count": 11,
   "id": "billion-syria",
   "metadata": {},
   "outputs": [
    {
     "data": {
      "text/plain": [
       "112"
      ]
     },
     "execution_count": 11,
     "metadata": {},
     "output_type": "execute_result"
    }
   ],
   "source": [
    "countsFemale = dataGender['Gender'].apply(findGenderFemale)\n",
    "\n",
    "countsFemale.sum()"
   ]
  },
  {
   "cell_type": "code",
   "execution_count": 88,
   "id": "elegant-occurrence",
   "metadata": {},
   "outputs": [
    {
     "data": {
      "image/png": "[encoded data removed]",
      "text/plain": [
       "<Figure size 1080x720 with 1 Axes>"
      ]
     },
     "metadata": {
      "needs_background": "light"
     },
     "output_type": "display_data"
    }
   ],
   "source": [
    "# Compare number of males to females\n",
    "import matplotlib.pyplot as plt\n",
    "fig = plt.figure()\n",
    "series = [88, 112]\n",
    "plt = sns.barplot(x = ['Male', 'Female'], y = series)\n",
    "for p in plt.patches:\n",
    "    plt.annotate(format(p.get_height(), '.1f'), \n",
    "                   (p.get_x() + p.get_width() / 2., p.get_height()), \n",
    "                   ha = 'center', va = 'center', \n",
    "                   size=20,\n",
    "                   xytext = (0, 12), \n",
    "                   textcoords = 'offset points')\n",
    "plt.set_yticks(np.arange(0, 120, 10))\n",
    "plt.set_title(\"Comparison of Good Female and Male Superheroes\", fontsize = 20)\n",
    "plt.set_xlabel(\"Gender\", fontsize = 20)\n",
    "plt.set_ylabel(\"Counts\", fontsize = 20)\n",
    "fig.set_size_inches(15,10)"
   ]
  },
  {
   "cell_type": "code",
   "execution_count": 13,
   "id": "governmental-january",
   "metadata": {},
   "outputs": [
    {
     "data": {
      "text/html": [
       "<div>\n",
       "<style scoped>\n",
       "    .dataframe tbody tr th:only-of-type {\n",
       "        vertical-align: middle;\n",
       "    }\n",
       "\n",
       "    .dataframe tbody tr th {\n",
       "        vertical-align: top;\n",
       "    }\n",
       "\n",
       "    .dataframe thead th {\n",
       "        text-align: right;\n",
       "    }\n",
       "</style>\n",
       "<table border=\"1\" class=\"dataframe\">\n",
       "  <thead>\n",
       "    <tr style=\"text-align: right;\">\n",
       "      <th></th>\n",
       "      <th>Age</th>\n",
       "      <th>Annual Income</th>\n",
       "      <th>Spend Score</th>\n",
       "    </tr>\n",
       "  </thead>\n",
       "  <tbody>\n",
       "    <tr>\n",
       "      <th>count</th>\n",
       "      <td>88.000000</td>\n",
       "      <td>88.000000</td>\n",
       "      <td>88.000000</td>\n",
       "    </tr>\n",
       "    <tr>\n",
       "      <th>mean</th>\n",
       "      <td>39.806818</td>\n",
       "      <td>62.227273</td>\n",
       "      <td>48.511364</td>\n",
       "    </tr>\n",
       "    <tr>\n",
       "      <th>std</th>\n",
       "      <td>15.514812</td>\n",
       "      <td>26.638373</td>\n",
       "      <td>27.896770</td>\n",
       "    </tr>\n",
       "    <tr>\n",
       "      <th>min</th>\n",
       "      <td>18.000000</td>\n",
       "      <td>15.000000</td>\n",
       "      <td>1.000000</td>\n",
       "    </tr>\n",
       "    <tr>\n",
       "      <th>25%</th>\n",
       "      <td>27.750000</td>\n",
       "      <td>45.500000</td>\n",
       "      <td>24.500000</td>\n",
       "    </tr>\n",
       "    <tr>\n",
       "      <th>50%</th>\n",
       "      <td>37.000000</td>\n",
       "      <td>62.500000</td>\n",
       "      <td>50.000000</td>\n",
       "    </tr>\n",
       "    <tr>\n",
       "      <th>75%</th>\n",
       "      <td>50.500000</td>\n",
       "      <td>78.000000</td>\n",
       "      <td>70.000000</td>\n",
       "    </tr>\n",
       "    <tr>\n",
       "      <th>max</th>\n",
       "      <td>70.000000</td>\n",
       "      <td>137.000000</td>\n",
       "      <td>97.000000</td>\n",
       "    </tr>\n",
       "  </tbody>\n",
       "</table>\n",
       "</div>"
      ],
      "text/plain": [
       "             Age  Annual Income  Spend Score\n",
       "count  88.000000      88.000000    88.000000\n",
       "mean   39.806818      62.227273    48.511364\n",
       "std    15.514812      26.638373    27.896770\n",
       "min    18.000000      15.000000     1.000000\n",
       "25%    27.750000      45.500000    24.500000\n",
       "50%    37.000000      62.500000    50.000000\n",
       "75%    50.500000      78.000000    70.000000\n",
       "max    70.000000     137.000000    97.000000"
      ]
     },
     "execution_count": 13,
     "metadata": {},
     "output_type": "execute_result"
    }
   ],
   "source": [
    "#find descriptive statistics for males\n",
    "dataGender.loc[dataGender['Gender'] == 'Male'].describe()"
   ]
  },
  {
   "cell_type": "code",
   "execution_count": 14,
   "id": "moderate-replication",
   "metadata": {},
   "outputs": [
    {
     "data": {
      "text/html": [
       "<div>\n",
       "<style scoped>\n",
       "    .dataframe tbody tr th:only-of-type {\n",
       "        vertical-align: middle;\n",
       "    }\n",
       "\n",
       "    .dataframe tbody tr th {\n",
       "        vertical-align: top;\n",
       "    }\n",
       "\n",
       "    .dataframe thead th {\n",
       "        text-align: right;\n",
       "    }\n",
       "</style>\n",
       "<table border=\"1\" class=\"dataframe\">\n",
       "  <thead>\n",
       "    <tr style=\"text-align: right;\">\n",
       "      <th></th>\n",
       "      <th>Age</th>\n",
       "      <th>Annual Income</th>\n",
       "      <th>Spend Score</th>\n",
       "    </tr>\n",
       "  </thead>\n",
       "  <tbody>\n",
       "    <tr>\n",
       "      <th>count</th>\n",
       "      <td>112.000000</td>\n",
       "      <td>112.000000</td>\n",
       "      <td>112.000000</td>\n",
       "    </tr>\n",
       "    <tr>\n",
       "      <th>mean</th>\n",
       "      <td>38.098214</td>\n",
       "      <td>59.250000</td>\n",
       "      <td>51.526786</td>\n",
       "    </tr>\n",
       "    <tr>\n",
       "      <th>std</th>\n",
       "      <td>12.644095</td>\n",
       "      <td>26.011952</td>\n",
       "      <td>24.114950</td>\n",
       "    </tr>\n",
       "    <tr>\n",
       "      <th>min</th>\n",
       "      <td>18.000000</td>\n",
       "      <td>16.000000</td>\n",
       "      <td>5.000000</td>\n",
       "    </tr>\n",
       "    <tr>\n",
       "      <th>25%</th>\n",
       "      <td>29.000000</td>\n",
       "      <td>39.750000</td>\n",
       "      <td>35.000000</td>\n",
       "    </tr>\n",
       "    <tr>\n",
       "      <th>50%</th>\n",
       "      <td>35.000000</td>\n",
       "      <td>60.000000</td>\n",
       "      <td>50.000000</td>\n",
       "    </tr>\n",
       "    <tr>\n",
       "      <th>75%</th>\n",
       "      <td>47.500000</td>\n",
       "      <td>77.250000</td>\n",
       "      <td>73.000000</td>\n",
       "    </tr>\n",
       "    <tr>\n",
       "      <th>max</th>\n",
       "      <td>68.000000</td>\n",
       "      <td>126.000000</td>\n",
       "      <td>99.000000</td>\n",
       "    </tr>\n",
       "  </tbody>\n",
       "</table>\n",
       "</div>"
      ],
      "text/plain": [
       "              Age  Annual Income  Spend Score\n",
       "count  112.000000     112.000000   112.000000\n",
       "mean    38.098214      59.250000    51.526786\n",
       "std     12.644095      26.011952    24.114950\n",
       "min     18.000000      16.000000     5.000000\n",
       "25%     29.000000      39.750000    35.000000\n",
       "50%     35.000000      60.000000    50.000000\n",
       "75%     47.500000      77.250000    73.000000\n",
       "max     68.000000     126.000000    99.000000"
      ]
     },
     "execution_count": 14,
     "metadata": {},
     "output_type": "execute_result"
    }
   ],
   "source": [
    "#find descriptive statistics for females\n",
    "dataGender.loc[dataGender['Gender'] == 'Female'].describe()"
   ]
  },
  {
   "cell_type": "code",
   "execution_count": 15,
   "id": "lyric-listing",
   "metadata": {},
   "outputs": [
    {
     "name": "stderr",
     "output_type": "stream",
     "text": [
      "C:\\Users\\Atrey\\anaconda3\\envs\\deeplearning\\lib\\site-packages\\seaborn\\distributions.py:2557: FutureWarning: `distplot` is a deprecated function and will be removed in a future version. Please adapt your code to use either `displot` (a figure-level function with similar flexibility) or `histplot` (an axes-level function for histograms).\n",
      "  warnings.warn(msg, FutureWarning)\n"
     ]
    },
    {
     "name": "stdout",
     "output_type": "stream",
     "text": [
      "AxesSubplot(0.125,0.125;0.775x0.755)\n"
     ]
    },
    {
     "data": {
      "image/png": "[encoded data removed]",
      "text/plain": [
       "<Figure size 432x288 with 1 Axes>"
      ]
     },
     "metadata": {
      "needs_background": "light"
     },
     "output_type": "display_data"
    }
   ],
   "source": [
    "#Find distribution of ages\n",
    "a = sns.distplot(dataGender['Age'])\n",
    "print(a)"
   ]
  },
  {
   "cell_type": "markdown",
   "id": "temporal-juvenile",
   "metadata": {},
   "source": [
    "## Distribution of Ages"
   ]
  },
  {
   "cell_type": "code",
   "execution_count": 16,
   "id": "prerequisite-transport",
   "metadata": {},
   "outputs": [],
   "source": [
    "#Create dataframe for male gender only\n",
    "dataGender.loc[dataGender['Gender'] == 'Male']\n",
    "dataAgeMale = pd.DataFrame()\n",
    "dataAgeMale = dataGender.loc[dataGender['Gender'] == 'Male']\n",
    "dataAgeMale.reset_index(drop = True)\n",
    "dataAgeMale.to_csv('dataAge.csv')"
   ]
  },
  {
   "cell_type": "code",
   "execution_count": 24,
   "id": "polished-psychology",
   "metadata": {},
   "outputs": [
    {
     "name": "stderr",
     "output_type": "stream",
     "text": [
      "C:\\Users\\Atrey\\anaconda3\\envs\\deeplearning\\lib\\site-packages\\seaborn\\distributions.py:2557: FutureWarning: `distplot` is a deprecated function and will be removed in a future version. Please adapt your code to use either `displot` (a figure-level function with similar flexibility) or `histplot` (an axes-level function for histograms).\n",
      "  warnings.warn(msg, FutureWarning)\n"
     ]
    },
    {
     "data": {
      "image/png": "[encoded data removed]",
      "text/plain": [
       "<Figure size 1440x1440 with 1 Axes>"
      ]
     },
     "metadata": {
      "needs_background": "light"
     },
     "output_type": "display_data"
    }
   ],
   "source": [
    "#plot distribution\n",
    "import matplotlib.pyplot as plt\n",
    "fig = plt.figure()\n",
    "ax1 = fig.add_subplot(211)\n",
    "male = sns.distplot(dataAgeMale['Age'], bins = 70, ax = ax1)\n",
    "male.set_xticks(np.arange(0, 85, step=1))\n",
    "male.set_ylabel('Likelihood of Age Frequency', fontweight = 'bold', fontsize = 15)\n",
    "male.set_xlabel('Age', fontweight = 'bold', fontsize = 15)\n",
    "fig.set_size_inches(20,20)"
   ]
  },
  {
   "cell_type": "code",
   "execution_count": 18,
   "id": "valid-wisdom",
   "metadata": {},
   "outputs": [
    {
     "data": {
      "text/html": [
       "<div>\n",
       "<style scoped>\n",
       "    .dataframe tbody tr th:only-of-type {\n",
       "        vertical-align: middle;\n",
       "    }\n",
       "\n",
       "    .dataframe tbody tr th {\n",
       "        vertical-align: top;\n",
       "    }\n",
       "\n",
       "    .dataframe thead th {\n",
       "        text-align: right;\n",
       "    }\n",
       "</style>\n",
       "<table border=\"1\" class=\"dataframe\">\n",
       "  <thead>\n",
       "    <tr style=\"text-align: right;\">\n",
       "      <th></th>\n",
       "      <th>Gender</th>\n",
       "      <th>Age</th>\n",
       "      <th>Annual Income</th>\n",
       "      <th>Spend Score</th>\n",
       "    </tr>\n",
       "  </thead>\n",
       "  <tbody>\n",
       "    <tr>\n",
       "      <th>0</th>\n",
       "      <td>Female</td>\n",
       "      <td>20</td>\n",
       "      <td>16</td>\n",
       "      <td>6</td>\n",
       "    </tr>\n",
       "    <tr>\n",
       "      <th>1</th>\n",
       "      <td>Female</td>\n",
       "      <td>23</td>\n",
       "      <td>16</td>\n",
       "      <td>77</td>\n",
       "    </tr>\n",
       "    <tr>\n",
       "      <th>2</th>\n",
       "      <td>Female</td>\n",
       "      <td>31</td>\n",
       "      <td>17</td>\n",
       "      <td>40</td>\n",
       "    </tr>\n",
       "    <tr>\n",
       "      <th>3</th>\n",
       "      <td>Female</td>\n",
       "      <td>22</td>\n",
       "      <td>17</td>\n",
       "      <td>76</td>\n",
       "    </tr>\n",
       "    <tr>\n",
       "      <th>4</th>\n",
       "      <td>Female</td>\n",
       "      <td>35</td>\n",
       "      <td>18</td>\n",
       "      <td>6</td>\n",
       "    </tr>\n",
       "    <tr>\n",
       "      <th>...</th>\n",
       "      <td>...</td>\n",
       "      <td>...</td>\n",
       "      <td>...</td>\n",
       "      <td>...</td>\n",
       "    </tr>\n",
       "    <tr>\n",
       "      <th>107</th>\n",
       "      <td>Female</td>\n",
       "      <td>32</td>\n",
       "      <td>103</td>\n",
       "      <td>69</td>\n",
       "    </tr>\n",
       "    <tr>\n",
       "      <th>108</th>\n",
       "      <td>Female</td>\n",
       "      <td>38</td>\n",
       "      <td>113</td>\n",
       "      <td>91</td>\n",
       "    </tr>\n",
       "    <tr>\n",
       "      <th>109</th>\n",
       "      <td>Female</td>\n",
       "      <td>47</td>\n",
       "      <td>120</td>\n",
       "      <td>16</td>\n",
       "    </tr>\n",
       "    <tr>\n",
       "      <th>110</th>\n",
       "      <td>Female</td>\n",
       "      <td>35</td>\n",
       "      <td>120</td>\n",
       "      <td>79</td>\n",
       "    </tr>\n",
       "    <tr>\n",
       "      <th>111</th>\n",
       "      <td>Female</td>\n",
       "      <td>45</td>\n",
       "      <td>126</td>\n",
       "      <td>28</td>\n",
       "    </tr>\n",
       "  </tbody>\n",
       "</table>\n",
       "<p>112 rows × 4 columns</p>\n",
       "</div>"
      ],
      "text/plain": [
       "     Gender  Age  Annual Income  Spend Score\n",
       "0    Female   20             16            6\n",
       "1    Female   23             16           77\n",
       "2    Female   31             17           40\n",
       "3    Female   22             17           76\n",
       "4    Female   35             18            6\n",
       "..      ...  ...            ...          ...\n",
       "107  Female   32            103           69\n",
       "108  Female   38            113           91\n",
       "109  Female   47            120           16\n",
       "110  Female   35            120           79\n",
       "111  Female   45            126           28\n",
       "\n",
       "[112 rows x 4 columns]"
      ]
     },
     "execution_count": 18,
     "metadata": {},
     "output_type": "execute_result"
    }
   ],
   "source": [
    "#Same idea, get all females ONLY\n",
    "dataGender.loc[dataGender['Gender'] == 'Female']\n",
    "dataAgeFemale = pd.DataFrame()\n",
    "dataAgeFemale = dataGender.loc[dataGender['Gender'] == 'Female']\n",
    "\n",
    "dataAgeFemale.reset_index(drop = True)"
   ]
  },
  {
   "cell_type": "code",
   "execution_count": 20,
   "id": "recorded-football",
   "metadata": {},
   "outputs": [
    {
     "name": "stderr",
     "output_type": "stream",
     "text": [
      "C:\\Users\\Atrey\\anaconda3\\envs\\deeplearning\\lib\\site-packages\\seaborn\\distributions.py:2557: FutureWarning: `distplot` is a deprecated function and will be removed in a future version. Please adapt your code to use either `displot` (a figure-level function with similar flexibility) or `histplot` (an axes-level function for histograms).\n",
      "  warnings.warn(msg, FutureWarning)\n"
     ]
    },
    {
     "data": {
      "image/png": "[encoded data removed]",
      "text/plain": [
       "<Figure size 1440x1440 with 1 Axes>"
      ]
     },
     "metadata": {
      "needs_background": "light"
     },
     "output_type": "display_data"
    }
   ],
   "source": [
    "#Plot distribution\n",
    "fig = plt.figure()\n",
    "ax1 = fig.add_subplot(211)\n",
    "\n",
    "female = sns.distplot(x = dataAgeFemale['Age'], ax = ax1, color = 'orange', bins = 70, kde = True)\n",
    "female.set_title('Female Customer Age Distribution', fontsize = 20)\n",
    "female.set_ylabel('Likelihood of Age Frequency', fontweight = 'bold', fontsize = 15)\n",
    "female.set_xlabel('Age', fontweight = 'bold', fontsize = 15)\n",
    "female.set_xticks(np.arange(0,85, step = 1))\n",
    "fig.set_size_inches(20,20)"
   ]
  },
  {
   "cell_type": "markdown",
   "id": "constant-dover",
   "metadata": {},
   "source": [
    "## Distribution of scores relative to age"
   ]
  },
  {
   "cell_type": "code",
   "execution_count": 26,
   "id": "optional-clause",
   "metadata": {},
   "outputs": [],
   "source": [
    "#helps classify range of scores into specific groups, easier interpratation\n",
    "def labelScores(data):\n",
    "    for i in range(data):\n",
    "        if data <= 35:\n",
    "            return 'Low Score'\n",
    "        elif data > 35 and data <= 65:\n",
    "            return 'Mid Score'\n",
    "        else: \n",
    "            return 'High Score'"
   ]
  },
  {
   "cell_type": "code",
   "execution_count": 28,
   "id": "agreed-small",
   "metadata": {},
   "outputs": [
    {
     "name": "stderr",
     "output_type": "stream",
     "text": [
      "<ipython-input-28-8127ba81d9f4>:4: SettingWithCopyWarning: \n",
      "A value is trying to be set on a copy of a slice from a DataFrame.\n",
      "Try using .loc[row_indexer,col_indexer] = value instead\n",
      "\n",
      "See the caveats in the documentation: https://pandas.pydata.org/pandas-docs/stable/user_guide/indexing.html#returning-a-view-versus-a-copy\n",
      "  dataAgeFemale['Score Label'] = dataLabelledScores\n"
     ]
    },
    {
     "data": {
      "text/html": [
       "<div>\n",
       "<style scoped>\n",
       "    .dataframe tbody tr th:only-of-type {\n",
       "        vertical-align: middle;\n",
       "    }\n",
       "\n",
       "    .dataframe tbody tr th {\n",
       "        vertical-align: top;\n",
       "    }\n",
       "\n",
       "    .dataframe thead th {\n",
       "        text-align: right;\n",
       "    }\n",
       "</style>\n",
       "<table border=\"1\" class=\"dataframe\">\n",
       "  <thead>\n",
       "    <tr style=\"text-align: right;\">\n",
       "      <th></th>\n",
       "      <th>Gender</th>\n",
       "      <th>Age</th>\n",
       "      <th>Annual Income</th>\n",
       "      <th>Spend Score</th>\n",
       "      <th>Score Label</th>\n",
       "    </tr>\n",
       "  </thead>\n",
       "  <tbody>\n",
       "    <tr>\n",
       "      <th>0</th>\n",
       "      <td>Female</td>\n",
       "      <td>20</td>\n",
       "      <td>16</td>\n",
       "      <td>6</td>\n",
       "      <td>Low Score</td>\n",
       "    </tr>\n",
       "    <tr>\n",
       "      <th>1</th>\n",
       "      <td>Female</td>\n",
       "      <td>23</td>\n",
       "      <td>16</td>\n",
       "      <td>77</td>\n",
       "      <td>High Score</td>\n",
       "    </tr>\n",
       "    <tr>\n",
       "      <th>2</th>\n",
       "      <td>Female</td>\n",
       "      <td>31</td>\n",
       "      <td>17</td>\n",
       "      <td>40</td>\n",
       "      <td>Mid Score</td>\n",
       "    </tr>\n",
       "    <tr>\n",
       "      <th>3</th>\n",
       "      <td>Female</td>\n",
       "      <td>22</td>\n",
       "      <td>17</td>\n",
       "      <td>76</td>\n",
       "      <td>High Score</td>\n",
       "    </tr>\n",
       "    <tr>\n",
       "      <th>4</th>\n",
       "      <td>Female</td>\n",
       "      <td>35</td>\n",
       "      <td>18</td>\n",
       "      <td>6</td>\n",
       "      <td>Low Score</td>\n",
       "    </tr>\n",
       "    <tr>\n",
       "      <th>...</th>\n",
       "      <td>...</td>\n",
       "      <td>...</td>\n",
       "      <td>...</td>\n",
       "      <td>...</td>\n",
       "      <td>...</td>\n",
       "    </tr>\n",
       "    <tr>\n",
       "      <th>107</th>\n",
       "      <td>Female</td>\n",
       "      <td>32</td>\n",
       "      <td>103</td>\n",
       "      <td>69</td>\n",
       "      <td>High Score</td>\n",
       "    </tr>\n",
       "    <tr>\n",
       "      <th>108</th>\n",
       "      <td>Female</td>\n",
       "      <td>38</td>\n",
       "      <td>113</td>\n",
       "      <td>91</td>\n",
       "      <td>High Score</td>\n",
       "    </tr>\n",
       "    <tr>\n",
       "      <th>109</th>\n",
       "      <td>Female</td>\n",
       "      <td>47</td>\n",
       "      <td>120</td>\n",
       "      <td>16</td>\n",
       "      <td>Low Score</td>\n",
       "    </tr>\n",
       "    <tr>\n",
       "      <th>110</th>\n",
       "      <td>Female</td>\n",
       "      <td>35</td>\n",
       "      <td>120</td>\n",
       "      <td>79</td>\n",
       "      <td>High Score</td>\n",
       "    </tr>\n",
       "    <tr>\n",
       "      <th>111</th>\n",
       "      <td>Female</td>\n",
       "      <td>45</td>\n",
       "      <td>126</td>\n",
       "      <td>28</td>\n",
       "      <td>Low Score</td>\n",
       "    </tr>\n",
       "  </tbody>\n",
       "</table>\n",
       "<p>112 rows × 5 columns</p>\n",
       "</div>"
      ],
      "text/plain": [
       "     Gender  Age  Annual Income  Spend Score Score Label\n",
       "0    Female   20             16            6   Low Score\n",
       "1    Female   23             16           77  High Score\n",
       "2    Female   31             17           40   Mid Score\n",
       "3    Female   22             17           76  High Score\n",
       "4    Female   35             18            6   Low Score\n",
       "..      ...  ...            ...          ...         ...\n",
       "107  Female   32            103           69  High Score\n",
       "108  Female   38            113           91  High Score\n",
       "109  Female   47            120           16   Low Score\n",
       "110  Female   35            120           79  High Score\n",
       "111  Female   45            126           28   Low Score\n",
       "\n",
       "[112 rows x 5 columns]"
      ]
     },
     "execution_count": 28,
     "metadata": {},
     "output_type": "execute_result"
    }
   ],
   "source": [
    "#Apply function to female dataframe\n",
    "dataLabelledScores = dataAgeFemale['Spend Score'].apply(labelScores)\n",
    "dataLabelledScores = pd.DataFrame(dataLabelledScores)\n",
    "dataAgeFemale['Score Label'] = dataLabelledScores\n",
    "dataAgeFemale.reset_index(drop = True)"
   ]
  },
  {
   "cell_type": "code",
   "execution_count": 79,
   "id": "minimal-correction",
   "metadata": {},
   "outputs": [
    {
     "name": "stdout",
     "output_type": "stream",
     "text": [
      "29\n",
      "50\n",
      "33\n"
     ]
    }
   ],
   "source": [
    "#Find number females in each score category\n",
    "print(dataAgeFemale.loc[dataAgeFemale['Score Label'] == 'Low Score'].value_counts().sum())\n",
    "print(dataAgeFemale.loc[dataAgeFemale['Score Label'] == 'Mid Score'].value_counts().sum())\n",
    "print(dataAgeFemale.loc[dataAgeFemale['Score Label'] == 'High Score'].value_counts().sum())"
   ]
  },
  {
   "cell_type": "code",
   "execution_count": 81,
   "id": "fifth-nation",
   "metadata": {},
   "outputs": [
    {
     "name": "stdout",
     "output_type": "stream",
     "text": [
      "26\n",
      "37\n",
      "25\n"
     ]
    }
   ],
   "source": [
    "#Find number males in each score category\n",
    "print(dataAgeMale.loc[dataAgeMale['Score Label'] == 'Low Score'].value_counts().sum())\n",
    "print(dataAgeMale.loc[dataAgeMale['Score Label'] == 'Mid Score'].value_counts().sum())\n",
    "print(dataAgeMale.loc[dataAgeMale['Score Label'] == 'High Score'].value_counts().sum())"
   ]
  },
  {
   "cell_type": "code",
   "execution_count": 74,
   "id": "considered-whole",
   "metadata": {},
   "outputs": [
    {
     "data": {
      "image/png": "[encoded data removed]",
      "text/plain": [
       "<Figure size 1440x1440 with 1 Axes>"
      ]
     },
     "metadata": {
      "needs_background": "light"
     },
     "output_type": "display_data"
    }
   ],
   "source": [
    "fig = plt.figure()\n",
    "ax1 = fig.add_subplot(211)\n",
    "female_score = sns.boxplot(x = dataAgeFemale['Age'], y = dataAgeFemale['Score Label'], ax = ax1)\n",
    "female_score.set_xticks(np.arange(0, 75, step=1))  # Set label locations.\n",
    "female_score.set_title('Female Scores between Ages', fontsize = 20)\n",
    "fig.set_size_inches(20,20)\n"
   ]
  },
  {
   "cell_type": "code",
   "execution_count": 30,
   "id": "accredited-wayne",
   "metadata": {},
   "outputs": [
    {
     "name": "stderr",
     "output_type": "stream",
     "text": [
      "<ipython-input-30-4d3d8431d29f>:4: SettingWithCopyWarning: \n",
      "A value is trying to be set on a copy of a slice from a DataFrame.\n",
      "Try using .loc[row_indexer,col_indexer] = value instead\n",
      "\n",
      "See the caveats in the documentation: https://pandas.pydata.org/pandas-docs/stable/user_guide/indexing.html#returning-a-view-versus-a-copy\n",
      "  dataAgeMale['Score Label'] = dataLabelledScores\n"
     ]
    },
    {
     "data": {
      "text/html": [
       "<div>\n",
       "<style scoped>\n",
       "    .dataframe tbody tr th:only-of-type {\n",
       "        vertical-align: middle;\n",
       "    }\n",
       "\n",
       "    .dataframe tbody tr th {\n",
       "        vertical-align: top;\n",
       "    }\n",
       "\n",
       "    .dataframe thead th {\n",
       "        text-align: right;\n",
       "    }\n",
       "</style>\n",
       "<table border=\"1\" class=\"dataframe\">\n",
       "  <thead>\n",
       "    <tr style=\"text-align: right;\">\n",
       "      <th></th>\n",
       "      <th>Gender</th>\n",
       "      <th>Age</th>\n",
       "      <th>Annual Income</th>\n",
       "      <th>Spend Score</th>\n",
       "      <th>Score Label</th>\n",
       "    </tr>\n",
       "  </thead>\n",
       "  <tbody>\n",
       "    <tr>\n",
       "      <th>0</th>\n",
       "      <td>Male</td>\n",
       "      <td>19</td>\n",
       "      <td>15</td>\n",
       "      <td>39</td>\n",
       "      <td>Mid Score</td>\n",
       "    </tr>\n",
       "    <tr>\n",
       "      <th>1</th>\n",
       "      <td>Male</td>\n",
       "      <td>21</td>\n",
       "      <td>15</td>\n",
       "      <td>81</td>\n",
       "      <td>High Score</td>\n",
       "    </tr>\n",
       "    <tr>\n",
       "      <th>2</th>\n",
       "      <td>Male</td>\n",
       "      <td>64</td>\n",
       "      <td>19</td>\n",
       "      <td>3</td>\n",
       "      <td>Low Score</td>\n",
       "    </tr>\n",
       "    <tr>\n",
       "      <th>3</th>\n",
       "      <td>Male</td>\n",
       "      <td>67</td>\n",
       "      <td>19</td>\n",
       "      <td>14</td>\n",
       "      <td>Low Score</td>\n",
       "    </tr>\n",
       "    <tr>\n",
       "      <th>4</th>\n",
       "      <td>Male</td>\n",
       "      <td>37</td>\n",
       "      <td>20</td>\n",
       "      <td>13</td>\n",
       "      <td>Low Score</td>\n",
       "    </tr>\n",
       "    <tr>\n",
       "      <th>...</th>\n",
       "      <td>...</td>\n",
       "      <td>...</td>\n",
       "      <td>...</td>\n",
       "      <td>...</td>\n",
       "      <td>...</td>\n",
       "    </tr>\n",
       "    <tr>\n",
       "      <th>83</th>\n",
       "      <td>Male</td>\n",
       "      <td>28</td>\n",
       "      <td>101</td>\n",
       "      <td>68</td>\n",
       "      <td>High Score</td>\n",
       "    </tr>\n",
       "    <tr>\n",
       "      <th>84</th>\n",
       "      <td>Male</td>\n",
       "      <td>33</td>\n",
       "      <td>113</td>\n",
       "      <td>8</td>\n",
       "      <td>Low Score</td>\n",
       "    </tr>\n",
       "    <tr>\n",
       "      <th>85</th>\n",
       "      <td>Male</td>\n",
       "      <td>32</td>\n",
       "      <td>126</td>\n",
       "      <td>74</td>\n",
       "      <td>High Score</td>\n",
       "    </tr>\n",
       "    <tr>\n",
       "      <th>86</th>\n",
       "      <td>Male</td>\n",
       "      <td>32</td>\n",
       "      <td>137</td>\n",
       "      <td>18</td>\n",
       "      <td>Low Score</td>\n",
       "    </tr>\n",
       "    <tr>\n",
       "      <th>87</th>\n",
       "      <td>Male</td>\n",
       "      <td>30</td>\n",
       "      <td>137</td>\n",
       "      <td>83</td>\n",
       "      <td>High Score</td>\n",
       "    </tr>\n",
       "  </tbody>\n",
       "</table>\n",
       "<p>88 rows × 5 columns</p>\n",
       "</div>"
      ],
      "text/plain": [
       "   Gender  Age  Annual Income  Spend Score Score Label\n",
       "0    Male   19             15           39   Mid Score\n",
       "1    Male   21             15           81  High Score\n",
       "2    Male   64             19            3   Low Score\n",
       "3    Male   67             19           14   Low Score\n",
       "4    Male   37             20           13   Low Score\n",
       "..    ...  ...            ...          ...         ...\n",
       "83   Male   28            101           68  High Score\n",
       "84   Male   33            113            8   Low Score\n",
       "85   Male   32            126           74  High Score\n",
       "86   Male   32            137           18   Low Score\n",
       "87   Male   30            137           83  High Score\n",
       "\n",
       "[88 rows x 5 columns]"
      ]
     },
     "execution_count": 30,
     "metadata": {},
     "output_type": "execute_result"
    }
   ],
   "source": [
    "#Apply function to female dataframe\n",
    "dataLabelledScores = dataAgeMale['Spend Score'].apply(labelScores)\n",
    "dataLabelledScores = pd.DataFrame(dataLabelledScores)\n",
    "dataAgeMale['Score Label'] = dataLabelledScores\n",
    "dataAgeMale.reset_index(drop = True)"
   ]
  },
  {
   "cell_type": "code",
   "execution_count": 73,
   "id": "broken-amplifier",
   "metadata": {},
   "outputs": [
    {
     "data": {
      "image/png": "[encoded data removed]",
      "text/plain": [
       "<Figure size 1440x1440 with 1 Axes>"
      ]
     },
     "metadata": {
      "needs_background": "light"
     },
     "output_type": "display_data"
    }
   ],
   "source": [
    "#Create similar graph for males\n",
    "fig = plt.figure()\n",
    "ax1 = fig.add_subplot(211)\n",
    "male_score = sns.boxplot(x = dataAgeMale['Age'], y = dataAgeMale['Score Label'], ax = ax1)\n",
    "male_score.set_xticks(np.arange(0, 75, step=1))  # Set label locations.\n",
    "male_score.set_title('Male Scores between Ages', fontsize = 20)\n",
    "fig.set_size_inches(20,20)"
   ]
  },
  {
   "cell_type": "markdown",
   "id": "rotary-frontier",
   "metadata": {},
   "source": [
    "## Correlation between metrics in each gender"
   ]
  },
  {
   "cell_type": "code",
   "execution_count": 34,
   "id": "steady-process",
   "metadata": {},
   "outputs": [
    {
     "data": {
      "text/html": [
       "<div>\n",
       "<style scoped>\n",
       "    .dataframe tbody tr th:only-of-type {\n",
       "        vertical-align: middle;\n",
       "    }\n",
       "\n",
       "    .dataframe tbody tr th {\n",
       "        vertical-align: top;\n",
       "    }\n",
       "\n",
       "    .dataframe thead th {\n",
       "        text-align: right;\n",
       "    }\n",
       "</style>\n",
       "<table border=\"1\" class=\"dataframe\">\n",
       "  <thead>\n",
       "    <tr style=\"text-align: right;\">\n",
       "      <th></th>\n",
       "      <th>Age</th>\n",
       "      <th>Annual Income</th>\n",
       "      <th>Spend Score</th>\n",
       "    </tr>\n",
       "  </thead>\n",
       "  <tbody>\n",
       "    <tr>\n",
       "      <th>Age</th>\n",
       "      <td>1.000000</td>\n",
       "      <td>0.059912</td>\n",
       "      <td>-0.375439</td>\n",
       "    </tr>\n",
       "    <tr>\n",
       "      <th>Annual Income</th>\n",
       "      <td>0.059912</td>\n",
       "      <td>1.000000</td>\n",
       "      <td>0.047542</td>\n",
       "    </tr>\n",
       "    <tr>\n",
       "      <th>Spend Score</th>\n",
       "      <td>-0.375439</td>\n",
       "      <td>0.047542</td>\n",
       "      <td>1.000000</td>\n",
       "    </tr>\n",
       "  </tbody>\n",
       "</table>\n",
       "</div>"
      ],
      "text/plain": [
       "                    Age  Annual Income  Spend Score\n",
       "Age            1.000000       0.059912    -0.375439\n",
       "Annual Income  0.059912       1.000000     0.047542\n",
       "Spend Score   -0.375439       0.047542     1.000000"
      ]
     },
     "execution_count": 34,
     "metadata": {},
     "output_type": "execute_result"
    }
   ],
   "source": [
    "dataAgeFemale.corr()"
   ]
  },
  {
   "cell_type": "code",
   "execution_count": 35,
   "id": "received-quebec",
   "metadata": {},
   "outputs": [
    {
     "data": {
      "text/html": [
       "<div>\n",
       "<style scoped>\n",
       "    .dataframe tbody tr th:only-of-type {\n",
       "        vertical-align: middle;\n",
       "    }\n",
       "\n",
       "    .dataframe tbody tr th {\n",
       "        vertical-align: top;\n",
       "    }\n",
       "\n",
       "    .dataframe thead th {\n",
       "        text-align: right;\n",
       "    }\n",
       "</style>\n",
       "<table border=\"1\" class=\"dataframe\">\n",
       "  <thead>\n",
       "    <tr style=\"text-align: right;\">\n",
       "      <th></th>\n",
       "      <th>Age</th>\n",
       "      <th>Annual Income</th>\n",
       "      <th>Spend Score</th>\n",
       "    </tr>\n",
       "  </thead>\n",
       "  <tbody>\n",
       "    <tr>\n",
       "      <th>Age</th>\n",
       "      <td>1.000000</td>\n",
       "      <td>-0.092978</td>\n",
       "      <td>-0.279628</td>\n",
       "    </tr>\n",
       "    <tr>\n",
       "      <th>Annual Income</th>\n",
       "      <td>-0.092978</td>\n",
       "      <td>1.000000</td>\n",
       "      <td>-0.023684</td>\n",
       "    </tr>\n",
       "    <tr>\n",
       "      <th>Spend Score</th>\n",
       "      <td>-0.279628</td>\n",
       "      <td>-0.023684</td>\n",
       "      <td>1.000000</td>\n",
       "    </tr>\n",
       "  </tbody>\n",
       "</table>\n",
       "</div>"
      ],
      "text/plain": [
       "                    Age  Annual Income  Spend Score\n",
       "Age            1.000000      -0.092978    -0.279628\n",
       "Annual Income -0.092978       1.000000    -0.023684\n",
       "Spend Score   -0.279628      -0.023684     1.000000"
      ]
     },
     "execution_count": 35,
     "metadata": {},
     "output_type": "execute_result"
    }
   ],
   "source": [
    "dataAgeMale.corr()"
   ]
  },
  {
   "cell_type": "markdown",
   "id": "trained-nickel",
   "metadata": {},
   "source": [
    "## Analyse Income Streams"
   ]
  },
  {
   "cell_type": "code",
   "execution_count": 39,
   "id": "fabulous-visiting",
   "metadata": {},
   "outputs": [],
   "source": [
    "#Check names\n",
    "data.columns = ['CustomerID', 'Gender', 'Age', 'Income', 'Score']"
   ]
  },
  {
   "cell_type": "code",
   "execution_count": 41,
   "id": "noble-exercise",
   "metadata": {},
   "outputs": [
    {
     "data": {
      "text/plain": [
       "array([ 15,  16,  17,  18,  19,  20,  21,  23,  24,  25,  28,  29,  30,\n",
       "        33,  34,  37,  38,  39,  40,  42,  43,  44,  46,  47,  48,  49,\n",
       "        50,  54,  57,  58,  59,  60,  61,  62,  63,  64,  65,  67,  69,\n",
       "        70,  71,  72,  73,  74,  75,  76,  77,  78,  79,  81,  85,  86,\n",
       "        87,  88,  93,  97,  98,  99, 101, 103, 113, 120, 126, 137],\n",
       "      dtype=int64)"
      ]
     },
     "execution_count": 41,
     "metadata": {},
     "output_type": "execute_result"
    }
   ],
   "source": [
    "#Look at unique incomes\n",
    "data.Income.unique()"
   ]
  },
  {
   "cell_type": "code",
   "execution_count": 42,
   "id": "large-czech",
   "metadata": {},
   "outputs": [],
   "source": [
    "#Define function which groups incomes brackets\n",
    "def labelIncome(data):\n",
    "    for i in range(data):\n",
    "        if data <= 54:\n",
    "            return 'Low Income'\n",
    "        elif data > 54 and data <= 79:\n",
    "            return 'Average Income'\n",
    "        else:\n",
    "            return 'High Income'\n",
    "        "
   ]
  },
  {
   "cell_type": "code",
   "execution_count": 43,
   "id": "spatial-offering",
   "metadata": {},
   "outputs": [
    {
     "data": {
      "text/html": [
       "<div>\n",
       "<style scoped>\n",
       "    .dataframe tbody tr th:only-of-type {\n",
       "        vertical-align: middle;\n",
       "    }\n",
       "\n",
       "    .dataframe tbody tr th {\n",
       "        vertical-align: top;\n",
       "    }\n",
       "\n",
       "    .dataframe thead th {\n",
       "        text-align: right;\n",
       "    }\n",
       "</style>\n",
       "<table border=\"1\" class=\"dataframe\">\n",
       "  <thead>\n",
       "    <tr style=\"text-align: right;\">\n",
       "      <th></th>\n",
       "      <th>CustomerID</th>\n",
       "      <th>Gender</th>\n",
       "      <th>Age</th>\n",
       "      <th>Income</th>\n",
       "      <th>Score</th>\n",
       "      <th>IncomeStream</th>\n",
       "    </tr>\n",
       "  </thead>\n",
       "  <tbody>\n",
       "    <tr>\n",
       "      <th>0</th>\n",
       "      <td>1</td>\n",
       "      <td>Male</td>\n",
       "      <td>19</td>\n",
       "      <td>15</td>\n",
       "      <td>39</td>\n",
       "      <td>Low Income</td>\n",
       "    </tr>\n",
       "    <tr>\n",
       "      <th>1</th>\n",
       "      <td>2</td>\n",
       "      <td>Male</td>\n",
       "      <td>21</td>\n",
       "      <td>15</td>\n",
       "      <td>81</td>\n",
       "      <td>Low Income</td>\n",
       "    </tr>\n",
       "    <tr>\n",
       "      <th>2</th>\n",
       "      <td>3</td>\n",
       "      <td>Female</td>\n",
       "      <td>20</td>\n",
       "      <td>16</td>\n",
       "      <td>6</td>\n",
       "      <td>Low Income</td>\n",
       "    </tr>\n",
       "    <tr>\n",
       "      <th>3</th>\n",
       "      <td>4</td>\n",
       "      <td>Female</td>\n",
       "      <td>23</td>\n",
       "      <td>16</td>\n",
       "      <td>77</td>\n",
       "      <td>Low Income</td>\n",
       "    </tr>\n",
       "    <tr>\n",
       "      <th>4</th>\n",
       "      <td>5</td>\n",
       "      <td>Female</td>\n",
       "      <td>31</td>\n",
       "      <td>17</td>\n",
       "      <td>40</td>\n",
       "      <td>Low Income</td>\n",
       "    </tr>\n",
       "    <tr>\n",
       "      <th>...</th>\n",
       "      <td>...</td>\n",
       "      <td>...</td>\n",
       "      <td>...</td>\n",
       "      <td>...</td>\n",
       "      <td>...</td>\n",
       "      <td>...</td>\n",
       "    </tr>\n",
       "    <tr>\n",
       "      <th>195</th>\n",
       "      <td>196</td>\n",
       "      <td>Female</td>\n",
       "      <td>35</td>\n",
       "      <td>120</td>\n",
       "      <td>79</td>\n",
       "      <td>High Income</td>\n",
       "    </tr>\n",
       "    <tr>\n",
       "      <th>196</th>\n",
       "      <td>197</td>\n",
       "      <td>Female</td>\n",
       "      <td>45</td>\n",
       "      <td>126</td>\n",
       "      <td>28</td>\n",
       "      <td>High Income</td>\n",
       "    </tr>\n",
       "    <tr>\n",
       "      <th>197</th>\n",
       "      <td>198</td>\n",
       "      <td>Male</td>\n",
       "      <td>32</td>\n",
       "      <td>126</td>\n",
       "      <td>74</td>\n",
       "      <td>High Income</td>\n",
       "    </tr>\n",
       "    <tr>\n",
       "      <th>198</th>\n",
       "      <td>199</td>\n",
       "      <td>Male</td>\n",
       "      <td>32</td>\n",
       "      <td>137</td>\n",
       "      <td>18</td>\n",
       "      <td>High Income</td>\n",
       "    </tr>\n",
       "    <tr>\n",
       "      <th>199</th>\n",
       "      <td>200</td>\n",
       "      <td>Male</td>\n",
       "      <td>30</td>\n",
       "      <td>137</td>\n",
       "      <td>83</td>\n",
       "      <td>High Income</td>\n",
       "    </tr>\n",
       "  </tbody>\n",
       "</table>\n",
       "<p>200 rows × 6 columns</p>\n",
       "</div>"
      ],
      "text/plain": [
       "     CustomerID  Gender  Age  Income  Score IncomeStream\n",
       "0             1    Male   19      15     39   Low Income\n",
       "1             2    Male   21      15     81   Low Income\n",
       "2             3  Female   20      16      6   Low Income\n",
       "3             4  Female   23      16     77   Low Income\n",
       "4             5  Female   31      17     40   Low Income\n",
       "..          ...     ...  ...     ...    ...          ...\n",
       "195         196  Female   35     120     79  High Income\n",
       "196         197  Female   45     126     28  High Income\n",
       "197         198    Male   32     126     74  High Income\n",
       "198         199    Male   32     137     18  High Income\n",
       "199         200    Male   30     137     83  High Income\n",
       "\n",
       "[200 rows x 6 columns]"
      ]
     },
     "execution_count": 43,
     "metadata": {},
     "output_type": "execute_result"
    }
   ],
   "source": [
    "#Apply to new table\n",
    "dataIncomeLabel = data['Income'].apply(labelIncome)\n",
    "data['IncomeStream'] = dataIncomeLabel\n",
    "data"
   ]
  },
  {
   "cell_type": "code",
   "execution_count": 71,
   "id": "economic-thumb",
   "metadata": {},
   "outputs": [
    {
     "data": {
      "text/html": [
       "<div>\n",
       "<style scoped>\n",
       "    .dataframe tbody tr th:only-of-type {\n",
       "        vertical-align: middle;\n",
       "    }\n",
       "\n",
       "    .dataframe tbody tr th {\n",
       "        vertical-align: top;\n",
       "    }\n",
       "\n",
       "    .dataframe thead th {\n",
       "        text-align: right;\n",
       "    }\n",
       "</style>\n",
       "<table border=\"1\" class=\"dataframe\">\n",
       "  <thead>\n",
       "    <tr style=\"text-align: right;\">\n",
       "      <th></th>\n",
       "      <th>CustomerID</th>\n",
       "      <th>Age</th>\n",
       "      <th>Income</th>\n",
       "      <th>Score</th>\n",
       "    </tr>\n",
       "  </thead>\n",
       "  <tbody>\n",
       "    <tr>\n",
       "      <th>count</th>\n",
       "      <td>88.000000</td>\n",
       "      <td>88.000000</td>\n",
       "      <td>88.000000</td>\n",
       "      <td>88.000000</td>\n",
       "    </tr>\n",
       "    <tr>\n",
       "      <th>mean</th>\n",
       "      <td>104.238636</td>\n",
       "      <td>39.806818</td>\n",
       "      <td>62.227273</td>\n",
       "      <td>48.511364</td>\n",
       "    </tr>\n",
       "    <tr>\n",
       "      <th>std</th>\n",
       "      <td>57.483830</td>\n",
       "      <td>15.514812</td>\n",
       "      <td>26.638373</td>\n",
       "      <td>27.896770</td>\n",
       "    </tr>\n",
       "    <tr>\n",
       "      <th>min</th>\n",
       "      <td>1.000000</td>\n",
       "      <td>18.000000</td>\n",
       "      <td>15.000000</td>\n",
       "      <td>1.000000</td>\n",
       "    </tr>\n",
       "    <tr>\n",
       "      <th>25%</th>\n",
       "      <td>59.500000</td>\n",
       "      <td>27.750000</td>\n",
       "      <td>45.500000</td>\n",
       "      <td>24.500000</td>\n",
       "    </tr>\n",
       "    <tr>\n",
       "      <th>50%</th>\n",
       "      <td>106.500000</td>\n",
       "      <td>37.000000</td>\n",
       "      <td>62.500000</td>\n",
       "      <td>50.000000</td>\n",
       "    </tr>\n",
       "    <tr>\n",
       "      <th>75%</th>\n",
       "      <td>151.250000</td>\n",
       "      <td>50.500000</td>\n",
       "      <td>78.000000</td>\n",
       "      <td>70.000000</td>\n",
       "    </tr>\n",
       "    <tr>\n",
       "      <th>max</th>\n",
       "      <td>200.000000</td>\n",
       "      <td>70.000000</td>\n",
       "      <td>137.000000</td>\n",
       "      <td>97.000000</td>\n",
       "    </tr>\n",
       "  </tbody>\n",
       "</table>\n",
       "</div>"
      ],
      "text/plain": [
       "       CustomerID        Age      Income      Score\n",
       "count   88.000000  88.000000   88.000000  88.000000\n",
       "mean   104.238636  39.806818   62.227273  48.511364\n",
       "std     57.483830  15.514812   26.638373  27.896770\n",
       "min      1.000000  18.000000   15.000000   1.000000\n",
       "25%     59.500000  27.750000   45.500000  24.500000\n",
       "50%    106.500000  37.000000   62.500000  50.000000\n",
       "75%    151.250000  50.500000   78.000000  70.000000\n",
       "max    200.000000  70.000000  137.000000  97.000000"
      ]
     },
     "execution_count": 71,
     "metadata": {},
     "output_type": "execute_result"
    }
   ],
   "source": [
    "#Get male-related information\n",
    "data_male_income = data.loc[data['Gender'] == 'Male']\n",
    "data_male_income.describe()"
   ]
  },
  {
   "cell_type": "code",
   "execution_count": 70,
   "id": "artificial-drill",
   "metadata": {},
   "outputs": [
    {
     "data": {
      "text/html": [
       "<div>\n",
       "<style scoped>\n",
       "    .dataframe tbody tr th:only-of-type {\n",
       "        vertical-align: middle;\n",
       "    }\n",
       "\n",
       "    .dataframe tbody tr th {\n",
       "        vertical-align: top;\n",
       "    }\n",
       "\n",
       "    .dataframe thead th {\n",
       "        text-align: right;\n",
       "    }\n",
       "</style>\n",
       "<table border=\"1\" class=\"dataframe\">\n",
       "  <thead>\n",
       "    <tr style=\"text-align: right;\">\n",
       "      <th></th>\n",
       "      <th>CustomerID</th>\n",
       "      <th>Age</th>\n",
       "      <th>Income</th>\n",
       "      <th>Score</th>\n",
       "    </tr>\n",
       "  </thead>\n",
       "  <tbody>\n",
       "    <tr>\n",
       "      <th>count</th>\n",
       "      <td>112.000000</td>\n",
       "      <td>112.000000</td>\n",
       "      <td>112.000000</td>\n",
       "      <td>112.000000</td>\n",
       "    </tr>\n",
       "    <tr>\n",
       "      <th>mean</th>\n",
       "      <td>97.562500</td>\n",
       "      <td>38.098214</td>\n",
       "      <td>59.250000</td>\n",
       "      <td>51.526786</td>\n",
       "    </tr>\n",
       "    <tr>\n",
       "      <th>std</th>\n",
       "      <td>58.276412</td>\n",
       "      <td>12.644095</td>\n",
       "      <td>26.011952</td>\n",
       "      <td>24.114950</td>\n",
       "    </tr>\n",
       "    <tr>\n",
       "      <th>min</th>\n",
       "      <td>3.000000</td>\n",
       "      <td>18.000000</td>\n",
       "      <td>16.000000</td>\n",
       "      <td>5.000000</td>\n",
       "    </tr>\n",
       "    <tr>\n",
       "      <th>25%</th>\n",
       "      <td>46.750000</td>\n",
       "      <td>29.000000</td>\n",
       "      <td>39.750000</td>\n",
       "      <td>35.000000</td>\n",
       "    </tr>\n",
       "    <tr>\n",
       "      <th>50%</th>\n",
       "      <td>94.500000</td>\n",
       "      <td>35.000000</td>\n",
       "      <td>60.000000</td>\n",
       "      <td>50.000000</td>\n",
       "    </tr>\n",
       "    <tr>\n",
       "      <th>75%</th>\n",
       "      <td>148.250000</td>\n",
       "      <td>47.500000</td>\n",
       "      <td>77.250000</td>\n",
       "      <td>73.000000</td>\n",
       "    </tr>\n",
       "    <tr>\n",
       "      <th>max</th>\n",
       "      <td>197.000000</td>\n",
       "      <td>68.000000</td>\n",
       "      <td>126.000000</td>\n",
       "      <td>99.000000</td>\n",
       "    </tr>\n",
       "  </tbody>\n",
       "</table>\n",
       "</div>"
      ],
      "text/plain": [
       "       CustomerID         Age      Income       Score\n",
       "count  112.000000  112.000000  112.000000  112.000000\n",
       "mean    97.562500   38.098214   59.250000   51.526786\n",
       "std     58.276412   12.644095   26.011952   24.114950\n",
       "min      3.000000   18.000000   16.000000    5.000000\n",
       "25%     46.750000   29.000000   39.750000   35.000000\n",
       "50%     94.500000   35.000000   60.000000   50.000000\n",
       "75%    148.250000   47.500000   77.250000   73.000000\n",
       "max    197.000000   68.000000  126.000000   99.000000"
      ]
     },
     "execution_count": 70,
     "metadata": {},
     "output_type": "execute_result"
    }
   ],
   "source": [
    "#Get female-related information\n",
    "data_female_income = data.loc[data['Gender'] == 'Female']\n",
    "data_female_income"
   ]
  },
  {
   "cell_type": "code",
   "execution_count": 57,
   "id": "involved-reggae",
   "metadata": {},
   "outputs": [
    {
     "data": {
      "text/plain": [
       "Text(0.5, 1.0, 'Salary of Males per Age group')"
      ]
     },
     "execution_count": 57,
     "metadata": {},
     "output_type": "execute_result"
    },
    {
     "data": {
      "image/png": "[encoded data removed]",
      "text/plain": [
       "<Figure size 2160x2160 with 1 Axes>"
      ]
     },
     "metadata": {
      "needs_background": "light"
     },
     "output_type": "display_data"
    }
   ],
   "source": [
    "#Plot salary of males per age group\n",
    "fig = plt.figure()\n",
    "ax1 = fig.add_subplot(211)\n",
    "a = sns.boxplot(x = data_male_income['Age'], y = data_male_income['IncomeStream'], ax = ax1)\n",
    "a.set_xticks(np.arange(0,75, step = 1))\n",
    "fig.set_size_inches(30,30)\n",
    "a.tick_params(axis = 'x', labelsize = 12)\n",
    "a.tick_params(axis = 'y', labelsize = 20)\n",
    "a.set_xlabel('Age (Years)', fontsize = 20)\n",
    "a.set_ylabel('Salary Bracket', fontsize = 20)\n",
    "a.set_title('Salary of Males per Age group', fontsize = 30)\n"
   ]
  },
  {
   "cell_type": "code",
   "execution_count": 69,
   "id": "surrounded-coast",
   "metadata": {},
   "outputs": [
    {
     "data": {
      "text/plain": [
       "Text(0.5, 1.0, 'Salary of Females per Age group')"
      ]
     },
     "execution_count": 69,
     "metadata": {},
     "output_type": "execute_result"
    },
    {
     "data": {
      "image/png": "[encoded data removed]",
      "text/plain": [
       "<Figure size 2160x2160 with 1 Axes>"
      ]
     },
     "metadata": {
      "needs_background": "light"
     },
     "output_type": "display_data"
    }
   ],
   "source": [
    "#Plot salary of females per age group\n",
    "fig = plt.figure()\n",
    "ax1 = fig.add_subplot(211)\n",
    "a = sns.boxplot(x = data_female_income['Age'], y = data_female_income['IncomeStream'], ax = ax1)\n",
    "a.set_xticks(np.arange(0,75, step = 1))\n",
    "fig.set_size_inches(30,30)\n",
    "a.tick_params(axis = 'x', labelsize = 12)\n",
    "a.tick_params(axis = 'y', labelsize = 20)\n",
    "a.set_xlabel('Age (Years)', fontsize = 20)\n",
    "a.set_ylabel('Salary Bracket', fontsize = 20)\n",
    "a.set_title('Salary of Females per Age group', fontsize = 30)"
   ]
  },
  {
   "cell_type": "code",
   "execution_count": 85,
   "id": "lyric-province",
   "metadata": {},
   "outputs": [
    {
     "name": "stdout",
     "output_type": "stream",
     "text": [
      "19\n",
      "36\n",
      "33\n"
     ]
    }
   ],
   "source": [
    "#Find number males in each score category\n",
    "print(data_male_income.loc[data_male_income['IncomeStream'] == 'High Income'].value_counts().sum())\n",
    "print(data_male_income.loc[data_male_income['IncomeStream'] == 'Low Income'].value_counts().sum())\n",
    "print(data_male_income.loc[data_male_income['IncomeStream'] == 'Average Income'].value_counts().sum())"
   ]
  },
  {
   "cell_type": "code",
   "execution_count": 86,
   "id": "nominated-traveler",
   "metadata": {},
   "outputs": [
    {
     "name": "stdout",
     "output_type": "stream",
     "text": [
      "19\n",
      "50\n",
      "43\n"
     ]
    }
   ],
   "source": [
    "#Find number females in each score category\n",
    "print(data_female_income.loc[data_female_income['IncomeStream'] == 'High Income'].value_counts().sum())\n",
    "print(data_female_income.loc[data_female_income['IncomeStream'] == 'Low Income'].value_counts().sum())\n",
    "print(data_female_income.loc[data_female_income['IncomeStream'] == 'Average Income'].value_counts().sum())"
   ]
  },
  {
   "cell_type": "markdown",
   "id": "working-pulse",
   "metadata": {},
   "source": [
    "# Cluster Income for each Score\n",
    "-----"
   ]
  },
  {
   "cell_type": "code",
   "execution_count": 51,
   "id": "white-dominant",
   "metadata": {},
   "outputs": [
    {
     "data": {
      "text/plain": [
       "<AxesSubplot:xlabel='Score', ylabel='Income'>"
      ]
     },
     "execution_count": 51,
     "metadata": {},
     "output_type": "execute_result"
    },
    {
     "data": {
      "image/png": "[encoded data removed]",
      "text/plain": [
       "<Figure size 432x288 with 1 Axes>"
      ]
     },
     "metadata": {
      "needs_background": "light"
     },
     "output_type": "display_data"
    }
   ],
   "source": [
    "#scatterplot of scores vs income, look at ages\n",
    "sns.scatterplot(data = data, x = data['Score'], y = data['Income'], hue = data.Age, palette = 'coolwarm_r')"
   ]
  },
  {
   "cell_type": "code",
   "execution_count": 52,
   "id": "understood-diving",
   "metadata": {},
   "outputs": [
    {
     "data": {
      "text/plain": [
       "<AxesSubplot:xlabel='Score', ylabel='Income'>"
      ]
     },
     "execution_count": 52,
     "metadata": {},
     "output_type": "execute_result"
    },
    {
     "data": {
      "image/png": "[encoded data removed]",
      "text/plain": [
       "<Figure size 432x288 with 1 Axes>"
      ]
     },
     "metadata": {
      "needs_background": "light"
     },
     "output_type": "display_data"
    }
   ],
   "source": [
    "#scatterplot of income vs scores, focus on gender subset\n",
    "sns.scatterplot(data = data, x = data['Score'], y = data['Income'], hue = data.Gender, palette = 'coolwarm_r')"
   ]
  },
  {
   "cell_type": "code",
   "execution_count": 59,
   "id": "stuck-strap",
   "metadata": {},
   "outputs": [],
   "source": [
    "#Begin clustering \n",
    "from sklearn.cluster import KMeans\n",
    "\n",
    "#obtain attributes for training\n",
    "X = data[['Income', 'Score']]\n",
    "\n",
    "#initialize k-means algorithm\n",
    "km = KMeans(n_clusters = 5, n_init = 5, init = 'random', random_state = 42)\n",
    "\n",
    "#fit model using training set\n",
    "km.fit(X)\n",
    "\n",
    "#fit model to predict \n",
    "y_kmeans = km.predict(X)\n"
   ]
  },
  {
   "cell_type": "code",
   "execution_count": 60,
   "id": "russian-humor",
   "metadata": {},
   "outputs": [
    {
     "data": {
      "text/plain": [
       "<matplotlib.collections.PathCollection at 0x186190d25e0>"
      ]
     },
     "execution_count": 60,
     "metadata": {},
     "output_type": "execute_result"
    },
    {
     "data": {
      "image/png": "[encoded data removed]",
      "text/plain": [
       "<Figure size 432x288 with 1 Axes>"
      ]
     },
     "metadata": {
      "needs_background": "light"
     },
     "output_type": "display_data"
    }
   ],
   "source": [
    "#plot centroids in cluster after KMeans\n",
    "sns.scatterplot(data = data, x = data['Score'], y = data['Income'], hue = y_kmeans, palette = 'coolwarm_r')\n",
    "centers = km.cluster_centers_\n",
    "\n",
    "plt.scatter(centers[:,0], centers[:, 1], c = 'black', s = 100, alpha = 0.6, marker = 'x')"
   ]
  },
  {
   "cell_type": "code",
   "execution_count": 68,
   "id": "separated-premises",
   "metadata": {},
   "outputs": [
    {
     "data": {
      "text/plain": [
       "2"
      ]
     },
     "execution_count": 68,
     "metadata": {},
     "output_type": "execute_result"
    }
   ],
   "source": [
    "#Use for predictions \n",
    "newdata = [[120, 100]]\n",
    "y_pred = km.predict(newdata)\n",
    "y_pred[0]\n"
   ]
  },
  {
   "cell_type": "code",
   "execution_count": 48,
   "id": "interstate-amber",
   "metadata": {},
   "outputs": [
    {
     "data": {
      "image/png": "[encoded data removed]",
      "text/plain": [
       "<Figure size 432x288 with 1 Axes>"
      ]
     },
     "metadata": {
      "needs_background": "light"
     },
     "output_type": "display_data"
    }
   ],
   "source": [
    "#Double-check optimal number of clusters\n",
    "inertia = []\n",
    "K = range(1,15)\n",
    "for i in K:\n",
    "    km = KMeans(n_clusters = i)\n",
    "    km = km.fit(X)\n",
    "    inertia.append(km.inertia_)\n",
    "\n",
    "plt.plot(K, inertia, marker = 'x')\n",
    "plt.xlabel('k')\n",
    "plt.xticks(np.arange(15))\n",
    "plt.ylabel('Inertia')\n",
    "plt.title(\"Elbow Method\")\n",
    "plt.show()"
   ]
  },
  {
   "cell_type": "markdown",
   "id": "exposed-diabetes",
   "metadata": {},
   "source": [
    "As seen above, the elbow method can be used to derive the optimal number of clusters in this problem space"
   ]
  },
  {
   "cell_type": "markdown",
   "id": "deluxe-preserve",
   "metadata": {},
   "source": [
    "# Results\n",
    "-----"
   ]
  },
  {
   "cell_type": "markdown",
   "id": "gross-saskatchewan",
   "metadata": {},
   "source": [
    "### Overall: \n",
    "* There are greater number of females that attend the mall compared to males, a difference of 24.\n",
    "* There is a greater likelihood that people who go to the mall are aged between 30 and 32 years old.\n",
    "* Males on average have higher incomes but lower scores compared females with lower incomes and higher spending scores\n",
    "\n",
    "----\n",
    "### Majority 50%:\n",
    "* of lower income males range in ages between 29 and 59 whilst females range between 27 and 49 years old.\n",
    "* of higher income males range in age 30 and 41 whilst females range between 32.5 and 41 years old.\n",
    "* of average income males range in age between 27 and 48 whilst females range 28 between 48 years old.\n",
    "\n",
    "### Regarding the majority 50% of spending scores:\n",
    "* high spending score males are aged between 27 and 35 compared to females aged between 27 and 33.\n",
    "* low spending score males are aged 34 and 53 whilst females are aged between 36 and 49.\n",
    "* medium spending score males are aged between 26 and 59 whilst females are aged between 28 and 50.\n",
    "\n",
    "### The highest income and spending scores for:\n",
    "* Males are 137 and 97.\n",
    "* Females are 126 and 99.\n",
    "\n",
    "### Whilst the lowest income and spending scores for:\n",
    "* Males are 97 and 1.\n",
    "* Females are 99 and 5.\n",
    "\n",
    "### As for the number of each group:\n",
    "* Amongst females and males, the majority have lower incomes.\n",
    "* There's a greater number of women who have average incomes compared to males\n",
    "* There's a greater number of females with mid spending scores compared to males.\n",
    "* Also, there's a greater number of females who spend more than males. "
   ]
  },
  {
   "cell_type": "markdown",
   "id": "particular-species",
   "metadata": {},
   "source": [
    "## Suggestions\n",
    "----\n",
    "* Have shops aimed with relatively cheap and reasonable prices.\n",
    "* Have shops aimed more towards females as there are greater number of them to males.\n",
    "* Include services/goods/shops which cater towards adults e.g. appliances, cafes, groceries, general stores etc.\n",
    "* To improve marketability of higher-end shops, aim towards females using shops such as clothing, jewelry etc."
   ]
  },
  {
   "cell_type": "code",
   "execution_count": null,
   "id": "unavailable-desert",
   "metadata": {},
   "outputs": [],
   "source": []
  }
 ],
 "metadata": {
  "kernelspec": {
   "display_name": "Python 3",
   "language": "python",
   "name": "python3"
  },
  "language_info": {
   "codemirror_mode": {
    "name": "ipython",
    "version": 3
   },
   "file_extension": ".py",
   "mimetype": "text/x-python",
   "name": "python",
   "nbconvert_exporter": "python",
   "pygments_lexer": "ipython3",
   "version": "3.8.5"
  }
 },
 "nbformat": 4,
 "nbformat_minor": 5
}
